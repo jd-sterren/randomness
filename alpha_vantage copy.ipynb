{
 "cells": [
  {
   "cell_type": "code",
   "execution_count": 80,
   "metadata": {},
   "outputs": [
    {
     "data": {
      "text/html": [
       "<div>\n",
       "<style scoped>\n",
       "    .dataframe tbody tr th:only-of-type {\n",
       "        vertical-align: middle;\n",
       "    }\n",
       "\n",
       "    .dataframe tbody tr th {\n",
       "        vertical-align: top;\n",
       "    }\n",
       "\n",
       "    .dataframe thead th {\n",
       "        text-align: right;\n",
       "    }\n",
       "</style>\n",
       "<table border=\"1\" class=\"dataframe\">\n",
       "  <thead>\n",
       "    <tr style=\"text-align: right;\">\n",
       "      <th></th>\n",
       "      <th>Date</th>\n",
       "      <th>Open</th>\n",
       "      <th>High</th>\n",
       "      <th>Low</th>\n",
       "      <th>Close</th>\n",
       "      <th>Volume</th>\n",
       "      <th>Company</th>\n",
       "    </tr>\n",
       "  </thead>\n",
       "  <tbody>\n",
       "    <tr>\n",
       "      <th>0</th>\n",
       "      <td>2024-01-09</td>\n",
       "      <td>238.11</td>\n",
       "      <td>238.9646</td>\n",
       "      <td>232.0400</td>\n",
       "      <td>234.96</td>\n",
       "      <td>96705664</td>\n",
       "      <td>TSLA</td>\n",
       "    </tr>\n",
       "    <tr>\n",
       "      <th>1</th>\n",
       "      <td>2024-01-08</td>\n",
       "      <td>236.14</td>\n",
       "      <td>241.2500</td>\n",
       "      <td>235.3000</td>\n",
       "      <td>240.45</td>\n",
       "      <td>85166580</td>\n",
       "      <td>TSLA</td>\n",
       "    </tr>\n",
       "    <tr>\n",
       "      <th>2</th>\n",
       "      <td>2024-01-05</td>\n",
       "      <td>236.86</td>\n",
       "      <td>240.1196</td>\n",
       "      <td>234.9001</td>\n",
       "      <td>237.49</td>\n",
       "      <td>92240035</td>\n",
       "      <td>TSLA</td>\n",
       "    </tr>\n",
       "    <tr>\n",
       "      <th>3</th>\n",
       "      <td>2024-01-04</td>\n",
       "      <td>239.25</td>\n",
       "      <td>242.7000</td>\n",
       "      <td>237.7300</td>\n",
       "      <td>237.93</td>\n",
       "      <td>102629283</td>\n",
       "      <td>TSLA</td>\n",
       "    </tr>\n",
       "    <tr>\n",
       "      <th>4</th>\n",
       "      <td>2024-01-03</td>\n",
       "      <td>244.98</td>\n",
       "      <td>245.6800</td>\n",
       "      <td>236.3200</td>\n",
       "      <td>238.45</td>\n",
       "      <td>121082599</td>\n",
       "      <td>TSLA</td>\n",
       "    </tr>\n",
       "  </tbody>\n",
       "</table>\n",
       "</div>"
      ],
      "text/plain": [
       "         Date    Open      High       Low   Close     Volume Company\n",
       "0  2024-01-09  238.11  238.9646  232.0400  234.96   96705664    TSLA\n",
       "1  2024-01-08  236.14  241.2500  235.3000  240.45   85166580    TSLA\n",
       "2  2024-01-05  236.86  240.1196  234.9001  237.49   92240035    TSLA\n",
       "3  2024-01-04  239.25  242.7000  237.7300  237.93  102629283    TSLA\n",
       "4  2024-01-03  244.98  245.6800  236.3200  238.45  121082599    TSLA"
      ]
     },
     "execution_count": 80,
     "metadata": {},
     "output_type": "execute_result"
    }
   ],
   "source": [
    "\"\"\"\n",
    "5 API requests per minute.\n",
    "25 requests per day.\n",
    "Retrieves 100 previous results.\n",
    "\"\"\"\n",
    "import requests\n",
    "import pandas as pd\n",
    "import scipy.stats as sts\n",
    "import numpy as np\n",
    "import os\n",
    "from datetime import datetime\n",
    "from prophet import Prophet\n",
    "API_KEY = 'YOUR_KEY_HERE'\n",
    "\n",
    "# STOCK SYMBOL\n",
    "symbol = \"TSLA\"\n",
    "url = f'https://www.alphavantage.co/query?function=TIME_SERIES_DAILY&symbol={symbol}&apikey={API_KEY}'\n",
    "data = requests.get(url).json()\n",
    "\n",
    "df = pd.DataFrame(data['Time Series (Daily)']).T\n",
    "df = df.apply(pd.to_numeric, errors='ignore')\n",
    "df.reset_index(inplace=True)\n",
    "df = df.rename(columns={'index': 'Date', '1. open':'Open', '2. high':'High', \n",
    "                        '3. low': 'Low','4. close':'Close','5. volume':'Volume'})\n",
    "\n",
    "df['Company'] = symbol\n",
    "df.head()"
   ]
  },
  {
   "cell_type": "code",
   "execution_count": 81,
   "metadata": {},
   "outputs": [
    {
     "name": "stderr",
     "output_type": "stream",
     "text": [
      "16:03:28 - cmdstanpy - INFO - Chain [1] start processing\n",
      "16:03:28 - cmdstanpy - INFO - Chain [1] done processing\n"
     ]
    }
   ],
   "source": [
    "prophet_df = df[['Date','Close']].sort_values(\"Date\", ascending=True).reset_index(drop=True)\n",
    "prophet_df.columns = ['ds','y']\n",
    "prophet_df = prophet_df.dropna()\n",
    "\n",
    "m = Prophet()\n",
    "m.fit(prophet_df)\n",
    "future = m.make_future_dataframe(periods=30, freq='B')\n",
    "forecast = m.predict(future)\n",
    "close_trend_30days = forecast[['ds','trend','yhat', 'yhat_lower', 'yhat_upper']].iloc[-30:,:]"
   ]
  },
  {
   "cell_type": "code",
   "execution_count": 82,
   "metadata": {},
   "outputs": [
    {
     "name": "stderr",
     "output_type": "stream",
     "text": [
      "16:03:31 - cmdstanpy - INFO - Chain [1] start processing\n",
      "16:03:31 - cmdstanpy - INFO - Chain [1] done processing\n",
      "16:03:31 - cmdstanpy - INFO - Chain [1] start processing\n",
      "16:03:32 - cmdstanpy - INFO - Chain [1] done processing\n",
      "16:03:32 - cmdstanpy - INFO - Chain [1] start processing\n",
      "16:03:32 - cmdstanpy - INFO - Chain [1] done processing\n"
     ]
    }
   ],
   "source": [
    "prophet_df = df[['Date','High']].sort_values(\"Date\", ascending=True).reset_index(drop=True)\n",
    "prophet_df.columns = ['ds','y']\n",
    "prophet_df = prophet_df.dropna()\n",
    "\n",
    "m = Prophet()\n",
    "m.fit(prophet_df)\n",
    "future = m.make_future_dataframe(periods=10, freq='B')\n",
    "forecast = m.predict(future)\n",
    "high_trend = forecast[['ds','trend','yhat', 'yhat_lower', 'yhat_upper']].iloc[-10:,:]\n",
    "\n",
    "prophet_df = df[['Date','Low']].sort_values(\"Date\", ascending=True).reset_index(drop=True)\n",
    "prophet_df.columns = ['ds','y']\n",
    "prophet_df = prophet_df.dropna()\n",
    "\n",
    "m = Prophet()\n",
    "m.fit(prophet_df)\n",
    "future = m.make_future_dataframe(periods=10, freq='B')\n",
    "forecast = m.predict(future)\n",
    "low_trend = forecast[['ds','trend','yhat', 'yhat_lower', 'yhat_upper']].iloc[-10:,:]\n",
    "\n",
    "prophet_df = df[['Date','Close']].sort_values(\"Date\", ascending=True).reset_index(drop=True)\n",
    "prophet_df.columns = ['ds','y']\n",
    "prophet_df = prophet_df.dropna()\n",
    "\n",
    "m = Prophet()\n",
    "m.fit(prophet_df)\n",
    "future = m.make_future_dataframe(periods=10, freq='B')\n",
    "forecast = m.predict(future)\n",
    "close_trend = forecast[['ds','trend','yhat', 'yhat_lower', 'yhat_upper']].iloc[-10:,:]"
   ]
  },
  {
   "cell_type": "code",
   "execution_count": 83,
   "metadata": {},
   "outputs": [
    {
     "data": {
      "text/plain": [
       "'up'"
      ]
     },
     "execution_count": 83,
     "metadata": {},
     "output_type": "execute_result"
    }
   ],
   "source": [
    "# TEST TO SEE IF CLOSING IS TRENDING UP OR DOWN LONG TERM\n",
    "'up' if close_trend_30days['yhat'].iloc[-1] > close_trend_30days['yhat'].iloc[0] else 'down'"
   ]
  }
 ],
 "metadata": {
  "kernelspec": {
   "display_name": "dev",
   "language": "python",
   "name": "python3"
  },
  "language_info": {
   "codemirror_mode": {
    "name": "ipython",
    "version": 3
   },
   "file_extension": ".py",
   "mimetype": "text/x-python",
   "name": "python",
   "nbconvert_exporter": "python",
   "pygments_lexer": "ipython3",
   "version": "3.10.13"
  }
 },
 "nbformat": 4,
 "nbformat_minor": 2
}
